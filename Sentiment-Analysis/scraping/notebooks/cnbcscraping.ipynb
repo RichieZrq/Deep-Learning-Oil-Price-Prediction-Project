{
 "cells": [
  {
   "cell_type": "code",
   "execution_count": 12,
   "metadata": {},
   "outputs": [],
   "source": [
    "from selenium import webdriver\n",
    "from selenium.webdriver.common.by import By\n",
    "from selenium.webdriver.support.ui import WebDriverWait\n",
    "from selenium.webdriver.support import expected_conditions as EC\n",
    "import time\n",
    "import csv\n",
    "\n",
    "# Configure Selenium WebDriver\n",
    "driver = webdriver.Chrome()\n",
    "\n",
    "# Navigate to the MEES OPEC section\n",
    "url = \"https://www.cnbc.com/search/?query=crude%20oil&qsearchterm=crude%20oil\"\n",
    "driver.get(url)\n",
    "\n",
    "# Wait for the page to load\n",
    "wait = WebDriverWait(driver, 5)\n"
   ]
  },
  {
   "cell_type": "code",
   "execution_count": 13,
   "metadata": {},
   "outputs": [
    {
     "name": "stdout",
     "output_type": "stream",
     "text": [
      "Scrolling completed after 1 minute.\n"
     ]
    }
   ],
   "source": [
    "\n",
    "# Scroll for 1 minute to load all content\n",
    "start_time = time.time()\n",
    "last_height = driver.execute_script(\"return document.body.scrollHeight\")\n",
    "\n",
    "while True:\n",
    "    # Scroll down to the bottom of the page\n",
    "    driver.execute_script(\"window.scrollTo(0, document.body.scrollHeight);\")\n",
    "\n",
    "    # Wait for new content to load\n",
    "    time.sleep(1)\n",
    "\n",
    "    # Stop scrolling after 1 minute\n",
    "    if time.time() - start_time > 60:\n",
    "        print(\"Scrolling completed after 1 minute.\")\n",
    "        break"
   ]
  },
  {
   "cell_type": "code",
   "execution_count": 14,
   "metadata": {},
   "outputs": [
    {
     "name": "stdout",
     "output_type": "stream",
     "text": [
      "Scrolling completed after 1 minute.\n"
     ]
    }
   ],
   "source": [
    "\n",
    "# Scroll for 1 minute to load all content\n",
    "start_time = time.time()\n",
    "last_height = driver.execute_script(\"return document.body.scrollHeight\")\n",
    "\n",
    "while True:\n",
    "    # Scroll down to the bottom of the page\n",
    "    driver.execute_script(\"window.scrollTo(0, document.body.scrollHeight);\")\n",
    "\n",
    "    # Wait for new content to load\n",
    "    time.sleep(1)\n",
    "\n",
    "    # Stop scrolling after 1 minute\n",
    "    if time.time() - start_time > 300:\n",
    "        print(\"Scrolling completed after 1 minute.\")\n",
    "        break"
   ]
  },
  {
   "cell_type": "code",
   "execution_count": 15,
   "metadata": {},
   "outputs": [],
   "source": [
    "\n",
    "# Scrape all articles on the page\n",
    "search_container = driver.find_element(By.ID, \"searchcontainer\")\n",
    "articles = search_container.find_elements(By.CSS_SELECTOR, \"div.SearchResult-searchResultContent\")\n",
    "\n",
    "# Open a CSV file to save the results\n",
    "with open(\"cnbc.csv\", mode=\"w\", newline=\"\", encoding=\"utf-8\") as file:\n",
    "    writer = csv.writer(file)\n",
    "    writer.writerow([\"Headline\", \"Date\"])  # Write the header row\n",
    "\n",
    "    # Extract headline and date for each article\n",
    "    for article in articles:\n",
    "        try:\n",
    "            # Extract the headline\n",
    "            headline_tag = article.find_element(By.CSS_SELECTOR, \"span.Card-title\")\n",
    "            headline = headline_tag.text.strip()\n",
    "\n",
    "            # Extract the date\n",
    "            date_tag = article.find_element(By.CSS_SELECTOR, \"span.SearchResult-publishedDate\")\n",
    "            date = date_tag.text.strip()\n",
    "\n",
    "            # Write to CSV\n",
    "            writer.writerow([headline, date])\n",
    "        except Exception as e:\n",
    "            print(f\"Error extracting data for an article: {e}\")\n",
    "\n"
   ]
  },
  {
   "cell_type": "code",
   "execution_count": 7,
   "metadata": {},
   "outputs": [],
   "source": [
    "# Quit the driver\n",
    "driver.quit()"
   ]
  }
 ],
 "metadata": {
  "kernelspec": {
   "display_name": "base",
   "language": "python",
   "name": "python3"
  },
  "language_info": {
   "codemirror_mode": {
    "name": "ipython",
    "version": 3
   },
   "file_extension": ".py",
   "mimetype": "text/x-python",
   "name": "python",
   "nbconvert_exporter": "python",
   "pygments_lexer": "ipython3",
   "version": "3.12.3"
  }
 },
 "nbformat": 4,
 "nbformat_minor": 2
}
