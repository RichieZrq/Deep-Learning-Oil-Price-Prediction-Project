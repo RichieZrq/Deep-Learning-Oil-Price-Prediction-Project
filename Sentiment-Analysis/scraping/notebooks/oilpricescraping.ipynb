{
 "cells": [
  {
   "cell_type": "code",
   "execution_count": 1,
   "metadata": {},
   "outputs": [],
   "source": [
    "import requests\n",
    "from bs4 import BeautifulSoup\n",
    "import csv"
   ]
  },
  {
   "cell_type": "code",
   "execution_count": 2,
   "metadata": {},
   "outputs": [
    {
     "name": "stdout",
     "output_type": "stream",
     "text": [
      "Scraping page 1: https://oilprice.com/Energy/Oil-Prices/Page-1.html\n",
      "Scraping page 2: https://oilprice.com/Energy/Oil-Prices/Page-2.html\n",
      "Scraping page 3: https://oilprice.com/Energy/Oil-Prices/Page-3.html\n",
      "Scraping page 4: https://oilprice.com/Energy/Oil-Prices/Page-4.html\n",
      "Scraping page 5: https://oilprice.com/Energy/Oil-Prices/Page-5.html\n",
      "Scraping page 6: https://oilprice.com/Energy/Oil-Prices/Page-6.html\n",
      "Scraping page 7: https://oilprice.com/Energy/Oil-Prices/Page-7.html\n",
      "Scraping page 8: https://oilprice.com/Energy/Oil-Prices/Page-8.html\n",
      "Scraping page 9: https://oilprice.com/Energy/Oil-Prices/Page-9.html\n",
      "Scraping page 10: https://oilprice.com/Energy/Oil-Prices/Page-10.html\n",
      "Scraping page 11: https://oilprice.com/Energy/Oil-Prices/Page-11.html\n",
      "Scraping page 12: https://oilprice.com/Energy/Oil-Prices/Page-12.html\n",
      "Scraping page 13: https://oilprice.com/Energy/Oil-Prices/Page-13.html\n",
      "Scraping page 14: https://oilprice.com/Energy/Oil-Prices/Page-14.html\n",
      "Scraping page 15: https://oilprice.com/Energy/Oil-Prices/Page-15.html\n",
      "Scraping page 16: https://oilprice.com/Energy/Oil-Prices/Page-16.html\n",
      "Scraping page 17: https://oilprice.com/Energy/Oil-Prices/Page-17.html\n",
      "Scraping page 18: https://oilprice.com/Energy/Oil-Prices/Page-18.html\n",
      "Scraping page 19: https://oilprice.com/Energy/Oil-Prices/Page-19.html\n",
      "Scraping page 20: https://oilprice.com/Energy/Oil-Prices/Page-20.html\n",
      "Scraping page 21: https://oilprice.com/Energy/Oil-Prices/Page-21.html\n",
      "Scraping page 22: https://oilprice.com/Energy/Oil-Prices/Page-22.html\n",
      "Scraping page 23: https://oilprice.com/Energy/Oil-Prices/Page-23.html\n",
      "Scraping page 24: https://oilprice.com/Energy/Oil-Prices/Page-24.html\n",
      "Scraping page 25: https://oilprice.com/Energy/Oil-Prices/Page-25.html\n",
      "Scraping page 26: https://oilprice.com/Energy/Oil-Prices/Page-26.html\n",
      "Scraping page 27: https://oilprice.com/Energy/Oil-Prices/Page-27.html\n",
      "Scraping page 28: https://oilprice.com/Energy/Oil-Prices/Page-28.html\n",
      "Scraping page 29: https://oilprice.com/Energy/Oil-Prices/Page-29.html\n",
      "Scraping page 30: https://oilprice.com/Energy/Oil-Prices/Page-30.html\n",
      "Scraping completed. Data saved to 'oilprice_headlines.csv'.\n"
     ]
    }
   ],
   "source": [
    "# Base URL for pagination\n",
    "BASE_URL = \"https://oilprice.com/Energy/Oil-Prices/Page-{}.html\"\n",
    "\n",
    "# Open a CSV file to store the results\n",
    "with open(\"oilprice_headlines.csv\", mode=\"w\", newline=\"\", encoding=\"utf-8\") as file:\n",
    "    writer = csv.writer(file)\n",
    "    writer.writerow([\"Headline\", \"Date\"])  # Write the header row\n",
    "\n",
    "    # Loop through pages 1 to 30\n",
    "    for page in range(1, 31):\n",
    "        url = BASE_URL.format(page)\n",
    "        print(f\"Scraping page {page}: {url}\")\n",
    "        response = requests.get(url)\n",
    "        \n",
    "        if response.status_code == 200:\n",
    "            soup = BeautifulSoup(response.text, \"html.parser\")\n",
    "\n",
    "            # Find all articles on the page\n",
    "            articles = soup.find_all(\"div\", class_=\"categoryArticle__content\")\n",
    "            for article in articles:\n",
    "                try:\n",
    "                    # Extract headline\n",
    "                    headline_tag = article.find(\"h2\", class_=\"categoryArticle__title\")\n",
    "                    headline = headline_tag.text.strip() if headline_tag else \"No headline\"\n",
    "\n",
    "                    # Extract date\n",
    "                    date_tag = article.find(\"p\", class_=\"categoryArticle__meta\")\n",
    "                    date = date_tag.text.strip().split(\"|\")[0].strip() if date_tag else \"No date\"\n",
    "\n",
    "                    # Write to CSV\n",
    "                    writer.writerow([headline, date])\n",
    "                except Exception as e:\n",
    "                    print(f\"Error extracting data for an article: {e}\")\n",
    "        else:\n",
    "            print(f\"Failed to fetch page {page}. Status code: {response.status_code}\")\n",
    "\n",
    "print(\"Scraping completed. Data saved to 'oilprice_headlines.csv'.\")"
   ]
  }
 ],
 "metadata": {
  "kernelspec": {
   "display_name": "base",
   "language": "python",
   "name": "python3"
  },
  "language_info": {
   "codemirror_mode": {
    "name": "ipython",
    "version": 3
   },
   "file_extension": ".py",
   "mimetype": "text/x-python",
   "name": "python",
   "nbconvert_exporter": "python",
   "pygments_lexer": "ipython3",
   "version": "3.12.3"
  }
 },
 "nbformat": 4,
 "nbformat_minor": 2
}
