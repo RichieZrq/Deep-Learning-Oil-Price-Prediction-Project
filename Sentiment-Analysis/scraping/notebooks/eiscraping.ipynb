{
 "cells": [
  {
   "cell_type": "code",
   "execution_count": 10,
   "metadata": {},
   "outputs": [],
   "source": [
    "from selenium import webdriver\n",
    "from selenium.webdriver.common.by import By\n",
    "from selenium.webdriver.support.ui import WebDriverWait\n",
    "from selenium.webdriver.support import expected_conditions as EC\n",
    "import time\n",
    "import csv\n",
    "\n",
    "# Configure Selenium WebDriver\n",
    "driver = webdriver.Chrome()\n",
    "\n",
    "# Oil Market for specific time frame\n",
    "url = \"https://www.energyintel.com/core-service-oil-markets/?q=&f0=2021-01-01to2024-11-01&from=2021-01-01&to=2024-11-01&f1=00000179-16a9-d124-a97d-7efb60f50000&f3=0&f4=00000178-eb8d-d3a9-a97a-fbad9c9f0000&f4=00000178-eb8d-d3a9-a97a-fbad9c5b0000&sourceObj=\"\n",
    "driver.get(url)\n",
    "\n",
    "# Wait for the page to load\n",
    "wait = WebDriverWait(driver, 5)"
   ]
  },
  {
   "cell_type": "code",
   "execution_count": 13,
   "metadata": {},
   "outputs": [],
   "source": [
    "\n",
    "articles = driver.find_elements(By.CSS_SELECTOR, \"li.SearchResultsModule-results-item\")\n",
    "# Open CSV file to store results\n",
    "with open(\"energy_intel_results.csv\", mode=\"w\", newline=\"\", encoding=\"utf-8\") as file:\n",
    "    writer = csv.writer(file)\n",
    "    writer.writerow([\"Headline\", \"Date\"])  # Write header row\n",
    "\n",
    "    for article in articles:\n",
    "        try:\n",
    "            headline_tag = article.find_element(By.CSS_SELECTOR, \"div.PromoO-title > a.Link\")\n",
    "            headline = headline_tag.text.strip()\n",
    "            \n",
    "            date_tag = article.find_element(By.CSS_SELECTOR, \"div.PromoO-date-wrapper > div.PromoO-date\")\n",
    "            date = date_tag.text.strip()\n",
    "            \n",
    "            # Write to CSV\n",
    "            writer.writerow([headline, date])\n",
    "            \n",
    "        except Exception as e:\n",
    "            print(f\"Error extracting data for an article: {e}\")\n",
    "            continue\n",
    "            \n"
   ]
  },
  {
   "cell_type": "code",
   "execution_count": 15,
   "metadata": {},
   "outputs": [
    {
     "name": "stdout",
     "output_type": "stream",
     "text": [
      "Scraping completed.\n"
     ]
    }
   ],
   "source": [
    "# Quit the driver\n",
    "driver.quit()\n",
    "\n",
    "print(\"Scraping completed.\")"
   ]
  },
  {
   "cell_type": "code",
   "execution_count": 16,
   "metadata": {},
   "outputs": [],
   "source": [
    "from selenium import webdriver\n",
    "from selenium.webdriver.common.by import By\n",
    "from selenium.webdriver.support.ui import WebDriverWait\n",
    "from selenium.webdriver.support import expected_conditions as EC\n",
    "import time\n",
    "import csv\n",
    "\n",
    "# Configure Selenium WebDriver\n",
    "driver = webdriver.Chrome()\n",
    "\n",
    "# Oil Market for specific time frame\n",
    "url = \"https://www.energyintel.com/core-service-oil-markets/?q=&f0=2021-01-01to2022-12-30&from=2021-01-01&to=2022-12-30&f1=00000179-16a9-d124-a97d-7efb60f50000&f3=0&f4=00000178-eb8d-d3a9-a97a-fbad9c9f0000&f4=00000178-eb8d-d3a9-a97a-fbad9c5b0000&sourceObj=\"\n",
    "driver.get(url)\n",
    "\n",
    "# Wait for the page to load\n",
    "wait = WebDriverWait(driver, 5)"
   ]
  },
  {
   "cell_type": "code",
   "execution_count": 18,
   "metadata": {},
   "outputs": [],
   "source": [
    "\n",
    "articles = driver.find_elements(By.CSS_SELECTOR, \"li.SearchResultsModule-results-item\")\n",
    "# Open CSV file to store results\n",
    "with open(\"energy_intel_results_2022.csv\", mode=\"w\", newline=\"\", encoding=\"utf-8\") as file:\n",
    "    writer = csv.writer(file)\n",
    "    writer.writerow([\"Headline\", \"Date\"])  # Write header row\n",
    "\n",
    "    for article in articles:\n",
    "        try:\n",
    "            headline_tag = article.find_element(By.CSS_SELECTOR, \"div.PromoO-title > a.Link\")\n",
    "            headline = headline_tag.text.strip()\n",
    "            \n",
    "            date_tag = article.find_element(By.CSS_SELECTOR, \"div.PromoO-date-wrapper > div.PromoO-date\")\n",
    "            date = date_tag.text.strip()\n",
    "            \n",
    "            # Write to CSV\n",
    "            writer.writerow([headline, date])\n",
    "            \n",
    "        except Exception as e:\n",
    "            print(f\"Error extracting data for an article: {e}\")\n",
    "            continue\n",
    "            \n"
   ]
  },
  {
   "cell_type": "code",
   "execution_count": 19,
   "metadata": {},
   "outputs": [
    {
     "name": "stdout",
     "output_type": "stream",
     "text": [
      "Scraping completed.\n"
     ]
    }
   ],
   "source": [
    "# Quit the driver\n",
    "driver.quit()\n",
    "\n",
    "print(\"Scraping completed.\")"
   ]
  },
  {
   "cell_type": "code",
   "execution_count": 20,
   "metadata": {},
   "outputs": [],
   "source": [
    "from selenium import webdriver\n",
    "from selenium.webdriver.common.by import By\n",
    "from selenium.webdriver.support.ui import WebDriverWait\n",
    "from selenium.webdriver.support import expected_conditions as EC\n",
    "import time\n",
    "import csv\n",
    "\n",
    "# Configure Selenium WebDriver\n",
    "driver = webdriver.Chrome()\n",
    "\n",
    "# Oil Market for specific time frame\n",
    "url = \"https://www.energyintel.com/core-service-oil-markets/?q=&f0=2021-01-01to2021-12-30&from=2021-01-01&to=2021-12-30&f1=00000179-16a9-d124-a97d-7efb60f50000&f3=0&f4=00000178-eb8d-d3a9-a97a-fbad9c9f0000&f4=00000178-eb8d-d3a9-a97a-fbad9c5b0000&sourceObj=\"\n",
    "driver.get(url)\n",
    "\n",
    "# Wait for the page to load\n",
    "wait = WebDriverWait(driver, 5)"
   ]
  },
  {
   "cell_type": "code",
   "execution_count": 21,
   "metadata": {},
   "outputs": [],
   "source": [
    "\n",
    "articles = driver.find_elements(By.CSS_SELECTOR, \"li.SearchResultsModule-results-item\")\n",
    "\n",
    "# Open CSV file to store results\n",
    "with open(\"energy_intel_results_2021.csv\", mode=\"w\", newline=\"\", encoding=\"utf-8\") as file:\n",
    "    writer = csv.writer(file)\n",
    "    writer.writerow([\"Headline\", \"Date\"])  # Write header row\n",
    "\n",
    "    for article in articles:\n",
    "        try:\n",
    "            headline_tag = article.find_element(By.CSS_SELECTOR, \"div.PromoO-title > a.Link\")\n",
    "            headline = headline_tag.text.strip()\n",
    "            \n",
    "            date_tag = article.find_element(By.CSS_SELECTOR, \"div.PromoO-date-wrapper > div.PromoO-date\")\n",
    "            date = date_tag.text.strip()\n",
    "            \n",
    "            # Write to CSV\n",
    "            writer.writerow([headline, date])\n",
    "            \n",
    "        except Exception as e:\n",
    "            print(f\"Error extracting data for an article: {e}\")\n",
    "            continue\n",
    "            \n"
   ]
  },
  {
   "cell_type": "code",
   "execution_count": 22,
   "metadata": {},
   "outputs": [
    {
     "name": "stdout",
     "output_type": "stream",
     "text": [
      "Scraping completed.\n"
     ]
    }
   ],
   "source": [
    "# Quit the driver\n",
    "driver.quit()\n",
    "\n",
    "print(\"Scraping completed.\")"
   ]
  }
 ],
 "metadata": {
  "kernelspec": {
   "display_name": "base",
   "language": "python",
   "name": "python3"
  },
  "language_info": {
   "codemirror_mode": {
    "name": "ipython",
    "version": 3
   },
   "file_extension": ".py",
   "mimetype": "text/x-python",
   "name": "python",
   "nbconvert_exporter": "python",
   "pygments_lexer": "ipython3",
   "version": "3.12.3"
  }
 },
 "nbformat": 4,
 "nbformat_minor": 2
}
